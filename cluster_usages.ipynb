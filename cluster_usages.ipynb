{
 "cells": [
  {
   "cell_type": "code",
   "execution_count": 1,
   "id": "6f12bea6",
   "metadata": {},
   "outputs": [],
   "source": [
    "import pickle"
   ]
  },
  {
   "cell_type": "code",
   "execution_count": 9,
   "id": "dd4c0c0d",
   "metadata": {},
   "outputs": [],
   "source": [
    "with open('./data/test_output', 'rb') as f:\n",
    "    x = pickle.load(f)"
   ]
  },
  {
   "cell_type": "code",
   "execution_count": 10,
   "id": "3fcc16d8",
   "metadata": {},
   "outputs": [
    {
     "data": {
      "text/plain": [
       "[]"
      ]
     },
     "execution_count": 10,
     "metadata": {},
     "output_type": "execute_result"
    }
   ],
   "source": [
    "x[0]"
   ]
  },
  {
   "cell_type": "code",
   "execution_count": 11,
   "id": "f0185478",
   "metadata": {
    "slideshow": {
     "slide_type": ""
    }
   },
   "outputs": [
    {
     "data": {
      "text/plain": [
       "([\"'\",\n",
       "  's',\n",
       "  'dr',\n",
       "  '##oll',\n",
       "  '##ery',\n",
       "  '.',\n",
       "  'they',\n",
       "  'rode',\n",
       "  'rather',\n",
       "  'quietly',\n",
       "  'upon',\n",
       "  'the',\n",
       "  'hill',\n",
       "  'again',\n",
       "  ',',\n",
       "  'to',\n",
       "  'where',\n",
       "  'fed',\n",
       "  'the',\n",
       "  'sheep',\n",
       "  '.',\n",
       "  'during',\n",
       "  'the',\n",
       "  'hour',\n",
       "  'or',\n",
       "  'so',\n",
       "  'that',\n",
       "  'they',\n",
       "  'had',\n",
       "  'been',\n",
       "  'absent',\n",
       "  'the',\n",
       "  'sheep',\n",
       "  'had',\n",
       "  'not',\n",
       "  'moved',\n",
       "  'app',\n",
       "  '##re',\n",
       "  '##cia',\n",
       "  '##bly',\n",
       "  ';',\n",
       "  'they',\n",
       "  'still',\n",
       "  'grazed',\n",
       "  'close',\n",
       "  'enough',\n",
       "  'to',\n",
       "  'the',\n",
       "  'boundary',\n",
       "  'to',\n",
       "  'make',\n",
       "  'their',\n",
       "  'position',\n",
       "  'seem',\n",
       "  'a',\n",
       "  'direct',\n",
       "  'insult',\n",
       "  'to',\n",
       "  'the',\n",
       "  'flying',\n",
       "  'u',\n",
       "  ',',\n",
       "  'a',\n",
       "  'virtual',\n",
       "  'slap',\n",
       "  'in',\n",
       "  'the',\n",
       "  'face',\n",
       "  '.',\n",
       "  'and',\n",
       "  'these',\n",
       "  'young',\n",
       "  'men',\n",
       "  'who',\n",
       "  'worked',\n",
       "  'for',\n",
       "  'the',\n",
       "  'flying',\n",
       "  'u',\n",
       "  ',',\n",
       "  'and',\n",
       "  'who',\n",
       "  'made',\n",
       "  'its',\n",
       "  'interests',\n",
       "  'right',\n",
       "  'loyal',\n",
       "  '##ly',\n",
       "  'their',\n",
       "  'own',\n",
       "  ',',\n",
       "  'were',\n",
       "  'growing',\n",
       "  'very',\n",
       "  ',',\n",
       "  'very',\n",
       "  'tired',\n",
       "  'of',\n",
       "  'turning',\n",
       "  'the',\n",
       "  'other',\n",
       "  'cheek',\n",
       "  '.',\n",
       "  'with',\n",
       "  'them',\n",
       "  ',',\n",
       "  'the',\n",
       "  'time',\n",
       "  'for',\n",
       "  'prof',\n",
       "  '##ani',\n",
       "  '##ty',\n",
       "  'and',\n",
       "  'for',\n",
       "  'horse',\n",
       "  '##play',\n",
       "  'bluff',\n",
       "  '##ing',\n",
       "  'and',\n",
       "  'ju',\n",
       "  '##dic',\n",
       "  '##ious',\n",
       "  'tempo',\n",
       "  '##riz',\n",
       "  '##ing',\n",
       "  'was'],\n",
       " 63,\n",
       " 1910)"
      ]
     },
     "execution_count": 11,
     "metadata": {},
     "output_type": "execute_result"
    }
   ],
   "source": [
    "x['virtual'][1]"
   ]
  },
  {
   "cell_type": "code",
   "execution_count": null,
   "id": "f05c7428",
   "metadata": {},
   "outputs": [],
   "source": []
  },
  {
   "cell_type": "code",
   "execution_count": 12,
   "id": "e0cd316a",
   "metadata": {},
   "outputs": [
    {
     "data": {
      "text/plain": [
       "284"
      ]
     },
     "execution_count": 12,
     "metadata": {},
     "output_type": "execute_result"
    }
   ],
   "source": [
    "len(x['virtual'])"
   ]
  },
  {
   "cell_type": "code",
   "execution_count": null,
   "id": "bd99667b",
   "metadata": {},
   "outputs": [],
   "source": []
  }
 ],
 "metadata": {
  "kernelspec": {
   "display_name": "Python 3 (ipykernel)",
   "language": "python",
   "name": "python3"
  },
  "language_info": {
   "codemirror_mode": {
    "name": "ipython",
    "version": 3
   },
   "file_extension": ".py",
   "mimetype": "text/x-python",
   "name": "python",
   "nbconvert_exporter": "python",
   "pygments_lexer": "ipython3",
   "version": "3.11.4"
  }
 },
 "nbformat": 4,
 "nbformat_minor": 5
}
